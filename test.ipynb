{
 "cells": [
  {
   "cell_type": "code",
   "execution_count": 1,
   "metadata": {},
   "outputs": [],
   "source": [
    "from PIL import Image\n",
    "import os\n",
    "\n",
    "path = \"public/assets/music\"\n",
    "files = os.listdir(path)\n",
    "\n",
    "for file in files:\n",
    "    if file.endswith('.jpg'):\n",
    "        img = Image.open(os.path.join(path, file))\n",
    "        img = img.resize((300, 300), Image.LANCZOS)\n",
    "        img.save(os.path.join(path, file), optimize=True)\n"
   ]
  }
 ],
 "metadata": {
  "kernelspec": {
   "display_name": "website-HRRlJ9Y5",
   "language": "python",
   "name": "python3"
  },
  "language_info": {
   "codemirror_mode": {
    "name": "ipython",
    "version": 3
   },
   "file_extension": ".py",
   "mimetype": "text/x-python",
   "name": "python",
   "nbconvert_exporter": "python",
   "pygments_lexer": "ipython3",
   "version": "3.11.5"
  }
 },
 "nbformat": 4,
 "nbformat_minor": 2
}
