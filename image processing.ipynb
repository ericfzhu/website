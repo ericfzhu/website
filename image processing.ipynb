{
 "cells": [
  {
   "cell_type": "code",
   "execution_count": 2,
   "metadata": {},
   "outputs": [],
   "source": [
    "from PIL import Image\n",
    "import os\n",
    "\n",
    "path = \"public/assets/music\"\n",
    "files = os.listdir(path)\n",
    "\n",
    "for file in files:\n",
    "    if file.endswith('.jpg'):\n",
    "        img = Image.open(os.path.join(path, file))\n",
    "        img = img.resize((300, 300), Image.LANCZOS)\n",
    "        img.save(os.path.join(path, file), optimize=True)\n"
   ]
  },
  {
   "cell_type": "code",
   "execution_count": 5,
   "metadata": {},
   "outputs": [
    {
     "name": "stderr",
     "output_type": "stream",
     "text": [
      "/Users/eric/.local/share/virtualenvs/website-HRRlJ9Y5/lib/python3.11/site-packages/sklearn/cluster/_kmeans.py:1416: FutureWarning: The default value of `n_init` will change from 10 to 'auto' in 1.4. Set the value of `n_init` explicitly to suppress the warning\n",
      "  super()._check_params_vs_input(X, default_n_init=10)\n",
      "/Users/eric/.local/share/virtualenvs/website-HRRlJ9Y5/lib/python3.11/site-packages/sklearn/cluster/_kmeans.py:1416: FutureWarning: The default value of `n_init` will change from 10 to 'auto' in 1.4. Set the value of `n_init` explicitly to suppress the warning\n",
      "  super()._check_params_vs_input(X, default_n_init=10)\n",
      "/Users/eric/.local/share/virtualenvs/website-HRRlJ9Y5/lib/python3.11/site-packages/sklearn/cluster/_kmeans.py:1416: FutureWarning: The default value of `n_init` will change from 10 to 'auto' in 1.4. Set the value of `n_init` explicitly to suppress the warning\n",
      "  super()._check_params_vs_input(X, default_n_init=10)\n",
      "/Users/eric/.local/share/virtualenvs/website-HRRlJ9Y5/lib/python3.11/site-packages/sklearn/cluster/_kmeans.py:1416: FutureWarning: The default value of `n_init` will change from 10 to 'auto' in 1.4. Set the value of `n_init` explicitly to suppress the warning\n",
      "  super()._check_params_vs_input(X, default_n_init=10)\n",
      "/Users/eric/.local/share/virtualenvs/website-HRRlJ9Y5/lib/python3.11/site-packages/sklearn/cluster/_kmeans.py:1416: FutureWarning: The default value of `n_init` will change from 10 to 'auto' in 1.4. Set the value of `n_init` explicitly to suppress the warning\n",
      "  super()._check_params_vs_input(X, default_n_init=10)\n",
      "/Users/eric/.local/share/virtualenvs/website-HRRlJ9Y5/lib/python3.11/site-packages/sklearn/cluster/_kmeans.py:1416: FutureWarning: The default value of `n_init` will change from 10 to 'auto' in 1.4. Set the value of `n_init` explicitly to suppress the warning\n",
      "  super()._check_params_vs_input(X, default_n_init=10)\n",
      "/Users/eric/.local/share/virtualenvs/website-HRRlJ9Y5/lib/python3.11/site-packages/sklearn/cluster/_kmeans.py:1416: FutureWarning: The default value of `n_init` will change from 10 to 'auto' in 1.4. Set the value of `n_init` explicitly to suppress the warning\n",
      "  super()._check_params_vs_input(X, default_n_init=10)\n",
      "/Users/eric/.local/share/virtualenvs/website-HRRlJ9Y5/lib/python3.11/site-packages/sklearn/cluster/_kmeans.py:1416: FutureWarning: The default value of `n_init` will change from 10 to 'auto' in 1.4. Set the value of `n_init` explicitly to suppress the warning\n",
      "  super()._check_params_vs_input(X, default_n_init=10)\n",
      "/Users/eric/.local/share/virtualenvs/website-HRRlJ9Y5/lib/python3.11/site-packages/sklearn/cluster/_kmeans.py:1416: FutureWarning: The default value of `n_init` will change from 10 to 'auto' in 1.4. Set the value of `n_init` explicitly to suppress the warning\n",
      "  super()._check_params_vs_input(X, default_n_init=10)\n"
     ]
    }
   ],
   "source": [
    "import json\n",
    "import numpy as np\n",
    "from sklearn.cluster import KMeans\n",
    "\n",
    "def rgb_to_hex(rgb):\n",
    "    return 'bg-[#%02x%02x%02x]' % (int(rgb[0]), int(rgb[1]), int(rgb[2]))\n",
    "\n",
    "def get_dominant_color(image):\n",
    "    image = image.convert('RGB')\n",
    "    image_array = np.array(image)\n",
    "    image_array = image_array.reshape(-1, 3)\n",
    "\n",
    "    kmeans = KMeans(n_clusters=1)\n",
    "    kmeans.fit(image_array)\n",
    "\n",
    "    dominant_color = kmeans.cluster_centers_[0]\n",
    "    return rgb_to_hex(dominant_color)\n",
    "\n",
    "color_dict = {}\n",
    "for file in files:\n",
    "    if file.endswith('.jpg'):\n",
    "        img = Image.open(os.path.join(path, file))\n",
    "        dominant_color = get_dominant_color(img)\n",
    "        color_dict[file.split('.')[0]] = dominant_color\n",
    "\n",
    "with open('src/components/data/music.json', 'r+', encoding='utf-8') as f:\n",
    "    data = json.load(f)\n",
    "    for key in color_dict:\n",
    "        if key in data:\n",
    "            data[key]['color'] = color_dict[key]\n",
    "    f.seek(0)\n",
    "    json.dump(data, f, ensure_ascii=False, indent=4)\n",
    "    f.truncate()\n"
   ]
  }
 ],
 "metadata": {
  "kernelspec": {
   "display_name": "website-HRRlJ9Y5",
   "language": "python",
   "name": "python3"
  },
  "language_info": {
   "codemirror_mode": {
    "name": "ipython",
    "version": 3
   },
   "file_extension": ".py",
   "mimetype": "text/x-python",
   "name": "python",
   "nbconvert_exporter": "python",
   "pygments_lexer": "ipython3",
   "version": "3.11.5"
  }
 },
 "nbformat": 4,
 "nbformat_minor": 2
}
