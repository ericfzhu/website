{
 "cells": [
  {
   "cell_type": "code",
   "execution_count": 19,
   "metadata": {},
   "outputs": [],
   "source": [
    "from PIL import Image\n",
    "import os\n",
    "\n",
    "path = \"public/assets/music\"\n",
    "files = os.listdir(path)\n",
    "\n",
    "def process_image(file_path):\n",
    "    # if file_path.endswith('.jpg'):\n",
    "    img = Image.open(file_path)\n",
    "    img = img.resize((100, 100), Image.LANCZOS)\n",
    "    img.save(file_path, optimize=True)\n",
    "\n",
    "process_image(os.path.join(path, 'It\\'ll Be Okay.png'))\n"
   ]
  },
  {
   "cell_type": "code",
   "execution_count": null,
   "metadata": {},
   "outputs": [],
   "source": [
    "import json\n",
    "import numpy as np\n",
    "from sklearn.cluster import KMeans\n",
    "\n",
    "def rgb_to_hex(rgb):\n",
    "    return 'bg-[#%02x%02x%02x]' % (int(rgb[0]), int(rgb[1]), int(rgb[2]))\n",
    "\n",
    "def get_dominant_color(image):\n",
    "    image = image.convert('RGB')\n",
    "    image_array = np.array(image)\n",
    "    image_array = image_array.reshape(-1, 3)\n",
    "\n",
    "    kmeans = KMeans(n_clusters=1)\n",
    "    kmeans.fit(image_array)\n",
    "\n",
    "    dominant_color = kmeans.cluster_centers_[0]\n",
    "    return rgb_to_hex(dominant_color)\n",
    "\n",
    "color_dict = {}\n",
    "for file in files:\n",
    "    if file.endswith('.jpg'):\n",
    "        img = Image.open(os.path.join(path, file))\n",
    "        dominant_color = get_dominant_color(img)\n",
    "        color_dict[file.split('.')[0]] = dominant_color\n",
    "\n",
    "with open('src/components/data/music.json', 'r+', encoding='utf-8') as f:\n",
    "    data = json.load(f)\n",
    "    for key in color_dict:\n",
    "        if key in data:\n",
    "            data[key]['color'] = color_dict[key]\n",
    "    f.seek(0)\n",
    "    json.dump(data, f, ensure_ascii=False, indent=4)\n",
    "    f.truncate()\n"
   ]
  },
  {
   "cell_type": "code",
   "execution_count": 31,
   "metadata": {},
   "outputs": [],
   "source": [
    "import os\n",
    "\n",
    "dir_name = \"public/assets/movies\"\n",
    "files_in_directory = os.listdir(dir_name)\n",
    "filtered_files = [file for file in files_in_directory if not file.endswith(\"300px.jpg\")]\n",
    "\n",
    "for file in filtered_files:\n",
    "    path_to_file = os.path.join(dir_name, file)\n",
    "    os.remove(path_to_file)\n"
   ]
  },
  {
   "cell_type": "code",
   "execution_count": 33,
   "metadata": {},
   "outputs": [],
   "source": [
    "from selenium import webdriver\n",
    "from selenium.webdriver.chrome.service import Service\n",
    "from selenium.webdriver.chrome.options import Options\n",
    "from urllib.parse import urlparse\n",
    "import time\n",
    "\n",
    "def capture_webpage(url):\n",
    "    domain = urlparse(url).netloc.split('.')[1]\n",
    "    filename = f'{domain}.jpg'\n",
    "    # Path to the WebDriver executable (change as per your WebDriver)\n",
    "    DRIVER_PATH = './chromedriver'\n",
    "\n",
    "    # Set up Chrome options\n",
    "    chrome_options = Options()\n",
    "    # Uncomment the next line if you want to run Chrome in headless mode\n",
    "    # chrome_options.add_argument(\"--headless\")\n",
    "\n",
    "    # Initialize the WebDriver with the specified options\n",
    "    service = Service(DRIVER_PATH)\n",
    "    driver = webdriver.Chrome(service=service, options=chrome_options)\n",
    "\n",
    "    # Set the window size to 1920x1080\n",
    "    driver.set_window_size(1600, 1080)\n",
    "\n",
    "    # Open the URL\n",
    "    driver.get(url)\n",
    "\n",
    "    # Wait for the page to load completely\n",
    "    time.sleep(5)  # Adjust the sleep time if necessary\n",
    "\n",
    "    # Capture and save the screenshot\n",
    "    driver.save_screenshot(filename)\n",
    "\n",
    "    # Close the browser\n",
    "    driver.quit()\n",
    "\n",
    "# Example usage\n",
    "capture_webpage('https://www.ssense.com/en-au')\n"
   ]
  },
  {
   "cell_type": "code",
   "execution_count": 40,
   "metadata": {},
   "outputs": [],
   "source": [
    "from PIL import Image\n",
    "\n",
    "def resize_image(image_path):\n",
    "    img = Image.open(image_path)\n",
    "    if img.mode in (\"RGBA\", \"P\"):\n",
    "        img = img.convert(\"RGB\")\n",
    "    width, height = img.size\n",
    "    aspect_ratio = height/width\n",
    "    new_width = 1000\n",
    "    new_height = int(new_width * aspect_ratio)\n",
    "    img = img.resize((new_width, new_height))\n",
    "    img.save(image_path, optimize=True)\n",
    "\n",
    "resize_image('public/assets/files/wip/superliminal.jpg')\n"
   ]
  },
  {
   "cell_type": "code",
   "execution_count": 18,
   "metadata": {},
   "outputs": [],
   "source": [
    "lyrics = \"\"\"\"\"\"\n",
    "\n",
    "lyrics = lyrics.replace('\\n', '\\\\n')\n",
    "with open('lyrics.txt', 'w') as file:\n",
    "    file.write(lyrics)\n"
   ]
  }
 ],
 "metadata": {
  "kernelspec": {
   "display_name": "website-HRRlJ9Y5",
   "language": "python",
   "name": "python3"
  },
  "language_info": {
   "codemirror_mode": {
    "name": "ipython",
    "version": 3
   },
   "file_extension": ".py",
   "mimetype": "text/x-python",
   "name": "python",
   "nbconvert_exporter": "python",
   "pygments_lexer": "ipython3",
   "version": "3.11.5"
  }
 },
 "nbformat": 4,
 "nbformat_minor": 2
}
